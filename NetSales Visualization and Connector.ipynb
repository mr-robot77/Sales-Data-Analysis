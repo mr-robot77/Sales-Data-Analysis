{
 "cells": [
  {
   "cell_type": "code",
   "execution_count": 1,
   "metadata": {},
   "outputs": [],
   "source": [
    "from sqlalchemy import create_engine\n",
    "from sqlalchemy import (\n",
    "    Column,\n",
    "    ForeignKey,\n",
    "    Integer,\n",
    "    String,\n",
    ")\n",
    "from sqlalchemy.orm import relationship\n",
    "from sqlalchemy.orm import sessionmaker\n",
    "import sqlalchemy as db\n",
    "from sqlalchemy.ext.declarative import declarative_base\n",
    "\n",
    "USERNAME = \"user\"\n",
    "PASSWORD = \"pass\"\n",
    "SERVER = \"localhost\"\n",
    "\n",
    "# DEFINE THE ENGINE (CONNECTION OBJECT)\n",
    "engine = create_engine(\n",
    "    f\"mysql+pymysql://{USERNAME}:{PASSWORD}@{SERVER}:3306/networksales\", echo=True)\n",
    "\n",
    "Base = declarative_base()"
   ]
  },
  {
   "cell_type": "code",
   "execution_count": 2,
   "metadata": {},
   "outputs": [],
   "source": [
    "class Products(Base):\n",
    "    __tablename__ = \"Products\"\n",
    "\n",
    "    id = Column(Integer, primary_key=True, unique=True, autoincrement=True)\n",
    "    Product = Column(String(20), nullable=False)\n",
    "    Speed = Column(Integer, nullable=False)\n",
    "    Traffic = Column(Integer, nullable=False)\n",
    "    Service = Column(String(20), nullable=False)\n",
    "    Duration_month = Column(Integer, nullable=False)\n",
    "\n",
    "    # Define a foreign key relationship to the 'Sales' table\n",
    "\n",
    "    Sales = relationship('Sales', back_populates='Product')\n",
    "\n",
    "    def __repr__(self):\n",
    "        return f\"<Products(id={self.id})>\""
   ]
  },
  {
   "cell_type": "code",
   "execution_count": 3,
   "metadata": {},
   "outputs": [],
   "source": [
    "class Customers(Base):\n",
    "    __tablename__ = \"Customers\"\n",
    "\n",
    "    id = Column(Integer, primary_key=True, unique=True, autoincrement=True)\n",
    "    Customer = Column(String(20), nullable=False)\n",
    "\n",
    "    # Define a foreign key relationship to the 'Sales' table\n",
    "\n",
    "    Sales = relationship('Sales', back_populates='Customer')\n",
    "\n",
    "    def __repr__(self):\n",
    "        return f\"<Customers(id={self.id})>\""
   ]
  },
  {
   "cell_type": "code",
   "execution_count": 4,
   "metadata": {},
   "outputs": [],
   "source": [
    "class Time(Base):\n",
    "    __tablename__ = \"Time\"\n",
    "\n",
    "    id = Column(Integer, primary_key=True, unique=True, autoincrement=True)\n",
    "    Date = Column(String(20), nullable=False)\n",
    "\n",
    "    # Define a foreign key relationship to the 'Sales' table\n",
    "\n",
    "    Sales = relationship('Sales', back_populates='Time')\n",
    "\n",
    "    def __repr__(self):\n",
    "        return f\"<Time(id={self.id}, Date={self.Date})>\""
   ]
  },
  {
   "cell_type": "code",
   "execution_count": 5,
   "metadata": {},
   "outputs": [],
   "source": [
    "class Province(Base):\n",
    "    __tablename__ = \"Province\"\n",
    "\n",
    "    id = Column(Integer, primary_key=True, nullable=False)\n",
    "    Province = Column(String(20), nullable=False)\n",
    "\n",
    "    # Define a one-to-many relationship with 'City' table\n",
    "\n",
    "    Sales = relationship('Sales', secondary=\"City\", back_populates='Province')\n",
    "\n",
    "    def __repr__(self):\n",
    "        return f\"<Province(id={self.id}, Province='{self.Province}')>\""
   ]
  },
  {
   "cell_type": "code",
   "execution_count": 6,
   "metadata": {},
   "outputs": [],
   "source": [
    "class City(Base):\n",
    "    __tablename__ = \"City\"\n",
    "\n",
    "    id = Column(Integer, primary_key=True, autoincrement=True)\n",
    "    City = Column(String(20), nullable=False)\n",
    "    Province_id = Column(Integer, ForeignKey(\"Province.id\"), nullable=False)\n",
    "\n",
    "    Sales = relationship('Sales', secondary=\"Province\", back_populates='City')\n",
    "\n",
    "    def __repr__(self):\n",
    "        return f\"<City(id={self.id}, Province_id={self.Province_id})>\""
   ]
  },
  {
   "cell_type": "code",
   "execution_count": 7,
   "metadata": {},
   "outputs": [],
   "source": [
    "class Sales(Base):\n",
    "    __tablename__ = \"Sales\"\n",
    "\n",
    "    id = Column(Integer, primary_key=True, unique=True, autoincrement=True)\n",
    "    Products_id = Column(Integer, ForeignKey('Products.id'), nullable=False)\n",
    "    Customers_id = Column(Integer, ForeignKey('Customers.id'), nullable=False)\n",
    "    Time_id = Column(Integer, ForeignKey('Time.id'), nullable=False)\n",
    "    Province_id = Column(Integer, ForeignKey('Province.id'), nullable=False)\n",
    "    City_id = Column(Integer, ForeignKey('City.id'), nullable=False)\n",
    "\n",
    "    Product = relationship('Products', back_populates='Sales')\n",
    "    Customer = relationship('Customers', back_populates='Sales')\n",
    "    Time = relationship('Time', back_populates='Sales')\n",
    "    Province = relationship('Province', back_populates='Sales')\n",
    "    City = relationship('City', back_populates='Sales')\n",
    "\n",
    "    def __repr__(self):\n",
    "        return f\"<Sales(id={self.id}, Products_id={self.Products_id}, Customers_id={self.Customers_id}, Time_id={self.Time_id}, Province_id={self.Province_id}, City_id={self.City_id})>\""
   ]
  }
 ],
 "metadata": {
  "kernelspec": {
   "display_name": "Python 3",
   "language": "python",
   "name": "python3"
  },
  "language_info": {
   "codemirror_mode": {
    "name": "ipython",
    "version": 3
   },
   "file_extension": ".py",
   "mimetype": "text/x-python",
   "name": "python",
   "nbconvert_exporter": "python",
   "pygments_lexer": "ipython3",
   "version": "3.9.17"
  },
  "orig_nbformat": 4
 },
 "nbformat": 4,
 "nbformat_minor": 2
}
